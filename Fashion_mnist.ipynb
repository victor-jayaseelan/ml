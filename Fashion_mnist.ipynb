{
 "cells": [
  {
   "cell_type": "markdown",
   "metadata": {},
   "source": [
    "Author : Victor Jayaseelan \n",
    "Date   : Jan 9"
   ]
  },
  {
   "cell_type": "code",
   "execution_count": null,
   "metadata": {},
   "outputs": [],
   "source": [
    "#Categories\n",
    "0. T-shirt/top\n",
    "1.Trousers\n",
    "2.Pullover\n",
    "3.Dress\n",
    "4.Coat\n",
    "5.Sandal\n",
    "6.Shirt\n",
    "7.Sneaker\n",
    "8.Bag\n",
    "9.Ankle boot"
   ]
  },
  {
   "cell_type": "code",
   "execution_count": 1,
   "metadata": {},
   "outputs": [],
   "source": [
    "import tensorflow\n",
    "from tensorflow.keras.datasets import fashion_mnist\n",
    "import numpy as np\n",
    "import matplotlib.pyplot as plt\n",
    "%matplotlib inline\n",
    "import random\n",
    "from tensorflow.keras.models import Sequential\n",
    "from tensorflow.keras.layers import Dense, Dropout, Conv2D, MaxPooling2D, Flatten\n"
   ]
  },
  {
   "cell_type": "code",
   "execution_count": 2,
   "metadata": {},
   "outputs": [],
   "source": [
    "import requests\n",
    "requests.packages.urllib3.disable_warnings()\n",
    "import ssl\n",
    "\n",
    "try:\n",
    "    _create_unverified_https_context = ssl._create_unverified_context\n",
    "except AttributeError:\n",
    "    pass\n",
    "else:\n",
    "    ssl._create_default_https_context = _create_unverified_https_context"
   ]
  },
  {
   "cell_type": "code",
   "execution_count": 3,
   "metadata": {},
   "outputs": [],
   "source": [
    "(x_train, y_train), (x_test, y_test) = fashion_mnist.load_data()"
   ]
  },
  {
   "cell_type": "code",
   "execution_count": 4,
   "metadata": {},
   "outputs": [],
   "source": [
    "y_label=y_test"
   ]
  },
  {
   "cell_type": "code",
   "execution_count": 5,
   "metadata": {},
   "outputs": [
    {
     "name": "stdout",
     "output_type": "stream",
     "text": [
      "x_train shape: (60000, 28, 28) y_train shape: (60000,)\n"
     ]
    }
   ],
   "source": [
    "print(\"x_train shape:\", x_train.shape, \"y_train shape:\", y_train.shape)"
   ]
  },
  {
   "cell_type": "code",
   "execution_count": 6,
   "metadata": {},
   "outputs": [
    {
     "data": {
      "text/plain": [
       "<matplotlib.image.AxesImage at 0x6830da850>"
      ]
     },
     "execution_count": 6,
     "metadata": {},
     "output_type": "execute_result"
    },
    {
     "data": {
      "image/png": "[encoded data removed]",
      "text/plain": [
       "<Figure size 432x288 with 1 Axes>"
      ]
     },
     "metadata": {
      "needs_background": "light"
     },
     "output_type": "display_data"
    }
   ],
   "source": [
    "plt.imshow(x_train[9456].reshape([28,28]),cmap=plt.get_cmap('gray_r'))\n",
    "\n"
   ]
  },
  {
   "cell_type": "code",
   "execution_count": 7,
   "metadata": {},
   "outputs": [],
   "source": [
    "from tensorflow.keras import backend as tfk\n",
    "\n",
    "if tfk.image_data_format() == 'channels_first':\n",
    "    x_train = x_train.reshape(x_train.shape[0], 1, 28, 28)\n",
    "    x_test = x_test.reshape(x_test.shape[0], 1, 28, 28)\n",
    "    input_shape = (1, 28, 28)\n",
    "else:\n",
    "    x_train = x_train.reshape(x_train.shape[0], 28, 28, 1)\n",
    "    x_test = x_test.reshape(x_test.shape[0], 28, 28, 1)\n",
    "    input_shape = (28, 28, 1)\n",
    "    \n",
    "    \n",
    "\n",
    "\n"
   ]
  },
  {
   "cell_type": "code",
   "execution_count": 8,
   "metadata": {},
   "outputs": [],
   "source": [
    "x_test = x_test.astype('float32') / 255  # Normalize the data dimension"
   ]
  },
  {
   "cell_type": "code",
   "execution_count": 9,
   "metadata": {},
   "outputs": [],
   "source": [
    "x_train = x_train.astype('float32') / 255"
   ]
  },
  {
   "cell_type": "code",
   "execution_count": 10,
   "metadata": {},
   "outputs": [],
   "source": [
    "y_train = tensorflow.keras.utils.to_categorical(y_train, 10)  # One hot encoding\n"
   ]
  },
  {
   "cell_type": "code",
   "execution_count": 11,
   "metadata": {},
   "outputs": [],
   "source": [
    "y_test = tensorflow.keras.utils.to_categorical(y_test, 10)"
   ]
  },
  {
   "cell_type": "code",
   "execution_count": 12,
   "metadata": {},
   "outputs": [
    {
     "data": {
      "text/plain": [
       "array([[0., 0., 0., ..., 0., 0., 1.],\n",
       "       [0., 0., 1., ..., 0., 0., 0.],\n",
       "       [0., 1., 0., ..., 0., 0., 0.],\n",
       "       ...,\n",
       "       [0., 0., 0., ..., 0., 1., 0.],\n",
       "       [0., 1., 0., ..., 0., 0., 0.],\n",
       "       [0., 0., 0., ..., 0., 0., 0.]], dtype=float32)"
      ]
     },
     "execution_count": 12,
     "metadata": {},
     "output_type": "execute_result"
    }
   ],
   "source": [
    "y_test"
   ]
  },
  {
   "cell_type": "code",
   "execution_count": 13,
   "metadata": {},
   "outputs": [
    {
     "data": {
      "text/plain": [
       "array([[0., 0., 0., ..., 0., 0., 1.],\n",
       "       [1., 0., 0., ..., 0., 0., 0.],\n",
       "       [1., 0., 0., ..., 0., 0., 0.],\n",
       "       ...,\n",
       "       [0., 0., 0., ..., 0., 0., 0.],\n",
       "       [1., 0., 0., ..., 0., 0., 0.],\n",
       "       [0., 0., 0., ..., 0., 0., 0.]], dtype=float32)"
      ]
     },
     "execution_count": 13,
     "metadata": {},
     "output_type": "execute_result"
    }
   ],
   "source": [
    "y_train"
   ]
  },
  {
   "cell_type": "code",
   "execution_count": 18,
   "metadata": {},
   "outputs": [],
   "source": [
    "model_test = Sequential()\n",
    "# 1st layer 32 kernels 3x3 size\n",
    "model_test.add(Conv2D(filters=32, kernel_size=(3, 3),\n",
    "                 padding='same', #zero padding\n",
    "                 activation='relu',\n",
    "                 input_shape=input_shape))\n",
    "# 2nd Conv layer 64 kernels 3x3 size\n",
    "model_test.add(Conv2D(filters=64, \n",
    "                 kernel_size=(3, 3), \n",
    "                 padding='same',\n",
    "                 activation='relu'))\n",
    "# Maxpooling layer 2x2\n",
    "model_test.add(MaxPooling2D(pool_size=(2, 2)))\n",
    "\n",
    "\n",
    "# Flattening layer\n",
    "model_test.add(Flatten())\n",
    "\n",
    "model_test.add(Dense(128, activation='relu'))\n",
    "\n",
    "# Softmax categorization layer\n",
    "model_test.add(Dense(10, activation='softmax'))\n",
    "\n"
   ]
  },
  {
   "cell_type": "code",
   "execution_count": 19,
   "metadata": {},
   "outputs": [
    {
     "name": "stdout",
     "output_type": "stream",
     "text": [
      "Model: \"sequential_1\"\n",
      "_________________________________________________________________\n",
      "Layer (type)                 Output Shape              Param #   \n",
      "=================================================================\n",
      "conv2d_2 (Conv2D)            (None, 28, 28, 32)        320       \n",
      "_________________________________________________________________\n",
      "conv2d_3 (Conv2D)            (None, 28, 28, 64)        18496     \n",
      "_________________________________________________________________\n",
      "max_pooling2d_1 (MaxPooling2 (None, 14, 14, 64)        0         \n",
      "_________________________________________________________________\n",
      "flatten_1 (Flatten)          (None, 12544)             0         \n",
      "_________________________________________________________________\n",
      "dense_2 (Dense)              (None, 128)               1605760   \n",
      "_________________________________________________________________\n",
      "dense_3 (Dense)              (None, 10)                1290      \n",
      "=================================================================\n",
      "Total params: 1,625,866\n",
      "Trainable params: 1,625,866\n",
      "Non-trainable params: 0\n",
      "_________________________________________________________________\n"
     ]
    }
   ],
   "source": [
    "model_test.summary()"
   ]
  },
  {
   "cell_type": "code",
   "execution_count": 20,
   "metadata": {},
   "outputs": [],
   "source": [
    "model_test.compile(loss='categorical_crossentropy',\n",
    "              optimizer='adam',\n",
    "              metrics=['accuracy'])"
   ]
  },
  {
   "cell_type": "code",
   "execution_count": 21,
   "metadata": {},
   "outputs": [
    {
     "name": "stdout",
     "output_type": "stream",
     "text": [
      "Epoch 1/10\n",
      "1875/1875 - 84s - loss: 0.3517 - accuracy: 0.8753 - val_loss: 0.2716 - val_accuracy: 0.9006\n",
      "Epoch 2/10\n",
      "1875/1875 - 96s - loss: 0.2143 - accuracy: 0.9210 - val_loss: 0.2292 - val_accuracy: 0.9179\n",
      "Epoch 3/10\n",
      "1875/1875 - 94s - loss: 0.1611 - accuracy: 0.9399 - val_loss: 0.2678 - val_accuracy: 0.9062\n",
      "Epoch 4/10\n",
      "1875/1875 - 96s - loss: 0.1191 - accuracy: 0.9562 - val_loss: 0.2375 - val_accuracy: 0.9209\n",
      "Epoch 5/10\n",
      "1875/1875 - 101s - loss: 0.0841 - accuracy: 0.9689 - val_loss: 0.2515 - val_accuracy: 0.9280\n",
      "Epoch 6/10\n",
      "1875/1875 - 96s - loss: 0.0614 - accuracy: 0.9774 - val_loss: 0.2898 - val_accuracy: 0.9231\n",
      "Epoch 7/10\n",
      "1875/1875 - 93s - loss: 0.0429 - accuracy: 0.9850 - val_loss: 0.3053 - val_accuracy: 0.9278\n",
      "Epoch 8/10\n",
      "1875/1875 - 93s - loss: 0.0341 - accuracy: 0.9878 - val_loss: 0.3598 - val_accuracy: 0.9287\n",
      "Epoch 9/10\n",
      "1875/1875 - 93s - loss: 0.0272 - accuracy: 0.9901 - val_loss: 0.4206 - val_accuracy: 0.9263\n",
      "Epoch 10/10\n",
      "1875/1875 - 92s - loss: 0.0227 - accuracy: 0.9918 - val_loss: 0.4424 - val_accuracy: 0.9190\n"
     ]
    },
    {
     "data": {
      "text/plain": [
       "<tensorflow.python.keras.callbacks.History at 0x6801dbbd0>"
      ]
     },
     "execution_count": 21,
     "metadata": {},
     "output_type": "execute_result"
    }
   ],
   "source": [
    "model_test.fit(x_train, y_train,\n",
    "                    batch_size=32,\n",
    "                    epochs=10,\n",
    "                    verbose=2,\n",
    "                    validation_data=(x_test, y_test))"
   ]
  },
  {
   "cell_type": "code",
   "execution_count": null,
   "metadata": {},
   "outputs": [],
   "source": [
    "#Trying to add dropout layers to avoid overfitting.\n",
    "#Added two dropout layers, one after Maxpooling layer, another one after Fully connected layer just before the output layer\n"
   ]
  },
  {
   "cell_type": "code",
   "execution_count": 14,
   "metadata": {},
   "outputs": [],
   "source": [
    "\n",
    "model = Sequential()\n",
    "# 1st layer 32 kernels 3x3 size\n",
    "model.add(Conv2D(filters=32, kernel_size=(3, 3),\n",
    "                 padding='same', #zero padding\n",
    "                 activation='relu',\n",
    "                 input_shape=input_shape))\n",
    "# 2nd Conv layer 64 kernels 3x3 size\n",
    "model.add(Conv2D(filters=64, \n",
    "                 kernel_size=(3, 3), \n",
    "                 padding='same',\n",
    "                 activation='relu'))\n",
    "# Maxpooling layer 2x2\"\n",
    "model.add(MaxPooling2D(pool_size=(2, 2)))\n",
    "\n",
    "# Adding Dropout to layers to avoid overfitting\n",
    "model.add(Dropout(0.3))\n",
    "\n",
    "# Flattening layer\n",
    "model.add(Flatten())\n",
    "\n",
    "\n",
    "model.add(Dense(128, activation='relu'))\n",
    "\n",
    "\n",
    "model.add(Dropout(0.5))\n",
    "\n",
    "# Softmax categorization layer\n",
    "model.add(Dense(10, activation='softmax'))\n"
   ]
  },
  {
   "cell_type": "code",
   "execution_count": 15,
   "metadata": {},
   "outputs": [
    {
     "name": "stdout",
     "output_type": "stream",
     "text": [
      "Model: \"sequential\"\n",
      "_________________________________________________________________\n",
      "Layer (type)                 Output Shape              Param #   \n",
      "=================================================================\n",
      "conv2d (Conv2D)              (None, 28, 28, 32)        320       \n",
      "_________________________________________________________________\n",
      "conv2d_1 (Conv2D)            (None, 28, 28, 64)        18496     \n",
      "_________________________________________________________________\n",
      "max_pooling2d (MaxPooling2D) (None, 14, 14, 64)        0         \n",
      "_________________________________________________________________\n",
      "dropout (Dropout)            (None, 14, 14, 64)        0         \n",
      "_________________________________________________________________\n",
      "flatten (Flatten)            (None, 12544)             0         \n",
      "_________________________________________________________________\n",
      "dense (Dense)                (None, 128)               1605760   \n",
      "_________________________________________________________________\n",
      "dropout_1 (Dropout)          (None, 128)               0         \n",
      "_________________________________________________________________\n",
      "dense_1 (Dense)              (None, 10)                1290      \n",
      "=================================================================\n",
      "Total params: 1,625,866\n",
      "Trainable params: 1,625,866\n",
      "Non-trainable params: 0\n",
      "_________________________________________________________________\n"
     ]
    }
   ],
   "source": [
    "model.summary()"
   ]
  },
  {
   "cell_type": "code",
   "execution_count": 16,
   "metadata": {},
   "outputs": [],
   "source": [
    "model.compile(loss='categorical_crossentropy',\n",
    "              optimizer='adam',\n",
    "              metrics=['accuracy'])"
   ]
  },
  {
   "cell_type": "code",
   "execution_count": 17,
   "metadata": {},
   "outputs": [
    {
     "name": "stdout",
     "output_type": "stream",
     "text": [
      "Epoch 1/10\n",
      "1875/1875 - 87s - loss: 0.4579 - accuracy: 0.8388 - val_loss: 0.3025 - val_accuracy: 0.8873\n",
      "Epoch 2/10\n",
      "1875/1875 - 93s - loss: 0.3044 - accuracy: 0.8911 - val_loss: 0.2642 - val_accuracy: 0.9013\n",
      "Epoch 3/10\n",
      "1875/1875 - 92s - loss: 0.2572 - accuracy: 0.9078 - val_loss: 0.2308 - val_accuracy: 0.9162\n",
      "Epoch 4/10\n",
      "1875/1875 - 92s - loss: 0.2270 - accuracy: 0.9163 - val_loss: 0.2359 - val_accuracy: 0.9154\n",
      "Epoch 5/10\n",
      "1875/1875 - 95s - loss: 0.2059 - accuracy: 0.9245 - val_loss: 0.2241 - val_accuracy: 0.9204\n",
      "Epoch 6/10\n",
      "1875/1875 - 97s - loss: 0.1869 - accuracy: 0.9311 - val_loss: 0.2159 - val_accuracy: 0.9217\n",
      "Epoch 7/10\n",
      "1875/1875 - 94s - loss: 0.1738 - accuracy: 0.9362 - val_loss: 0.2279 - val_accuracy: 0.9255\n",
      "Epoch 8/10\n",
      "1875/1875 - 94s - loss: 0.1610 - accuracy: 0.9401 - val_loss: 0.2222 - val_accuracy: 0.9273\n",
      "Epoch 9/10\n",
      "1875/1875 - 94s - loss: 0.1501 - accuracy: 0.9444 - val_loss: 0.2381 - val_accuracy: 0.9253\n",
      "Epoch 10/10\n",
      "1875/1875 - 96s - loss: 0.1426 - accuracy: 0.9469 - val_loss: 0.2230 - val_accuracy: 0.9279\n"
     ]
    },
    {
     "data": {
      "text/plain": [
       "<tensorflow.python.keras.callbacks.History at 0x6911c0b50>"
      ]
     },
     "execution_count": 17,
     "metadata": {},
     "output_type": "execute_result"
    }
   ],
   "source": [
    "model.fit(x_train, y_train,\n",
    "                    batch_size=32,\n",
    "                    epochs=10,\n",
    "                    verbose=2,\n",
    "                    validation_data=(x_test, y_test))"
   ]
  },
  {
   "cell_type": "code",
   "execution_count": 22,
   "metadata": {},
   "outputs": [],
   "source": [
    "val=model.predict(x_test[400].reshape([1,28,28,1]))"
   ]
  },
  {
   "cell_type": "code",
   "execution_count": 23,
   "metadata": {},
   "outputs": [
    {
     "data": {
      "text/plain": [
       "array([[9.9966431e-01, 5.4182150e-14, 9.1504315e-10, 7.7088789e-09,\n",
       "        1.3266211e-14, 1.0512301e-15, 3.3571065e-04, 5.0761656e-25,\n",
       "        3.8529968e-13, 9.4867963e-22]], dtype=float32)"
      ]
     },
     "execution_count": 23,
     "metadata": {},
     "output_type": "execute_result"
    }
   ],
   "source": [
    "val"
   ]
  },
  {
   "cell_type": "code",
   "execution_count": 24,
   "metadata": {},
   "outputs": [
    {
     "data": {
      "text/plain": [
       "array([0])"
      ]
     },
     "execution_count": 24,
     "metadata": {},
     "output_type": "execute_result"
    }
   ],
   "source": [
    "val.argmax(axis=1)"
   ]
  },
  {
   "cell_type": "code",
   "execution_count": 25,
   "metadata": {},
   "outputs": [
    {
     "name": "stdout",
     "output_type": "stream",
     "text": [
      "[[4.0034499e-04 5.7208971e-10 9.3158867e-08 1.4747390e-05 4.7324443e-06\n",
      "  6.8638462e-10 9.9958009e-01 1.2664975e-15 4.0972100e-08 1.1625428e-11]\n",
      " [1.1018249e-11 3.1008096e-17 5.1592018e-14 3.7091437e-14 7.1706340e-14\n",
      "  1.0000000e+00 5.2110618e-11 2.9482303e-08 3.6623356e-12 1.6974333e-08]\n",
      " [7.4634898e-01 3.5794653e-08 2.0327287e-05 9.3683630e-06 2.8065594e-07\n",
      "  1.3825070e-08 2.5362086e-01 1.4727332e-11 5.8019285e-08 5.7385784e-12]\n",
      " [2.8278144e-09 5.9431252e-13 1.4501015e-11 5.3691453e-13 1.7073387e-13\n",
      "  1.0531670e-07 6.3322519e-10 9.9999988e-01 3.2248351e-10 3.4709696e-08]\n",
      " [1.2740198e-06 2.0590216e-12 5.9943485e-01 2.9473022e-09 4.0055975e-01\n",
      "  2.5043357e-13 4.1605485e-06 6.1676334e-19 2.0158188e-11 7.5752258e-16]]\n",
      "Labels Predicted: [6 5 0 7 2]\n"
     ]
    },
    {
     "data": {
      "image/png": "[encoded data removed]",
      "text/plain": [
       "<Figure size 432x288 with 5 Axes>"
      ]
     },
     "metadata": {
      "needs_background": "light"
     },
     "output_type": "display_data"
    }
   ],
   "source": [
    "\n",
    "sample_size = 5\n",
    "indices = random.sample(range(x_test.shape[0] - 1), sample_size)\n",
    "samp_images = x_test[indices]\n",
    "samp_labels = y_label[indices]\n",
    "\n",
    "for i in range(sample_size):\n",
    "    plt.subplot(1,sample_size,i+1)\n",
    "    plt.imshow(samp_images[i].reshape(28, 28), cmap='gray')\n",
    "    plt.title(samp_labels[i])\n",
    "    plt.axis('off')\n",
    "\n",
    "prediction = model.predict(samp_images.reshape(sample_size, 28, 28, 1))\n",
    "print(prediction)\n",
    "prediction = np.array(prediction)\n",
    "predicted_label = prediction.argmax(axis=1)\n",
    "print('Labels Predicted: {}'.format(predicted_label))\n"
   ]
  },
  {
   "cell_type": "markdown",
   "metadata": {},
   "source": []
  },
  {
   "cell_type": "code",
   "execution_count": null,
   "metadata": {},
   "outputs": [],
   "source": []
  }
 ],
 "metadata": {
  "kernelspec": {
   "display_name": "Python 3",
   "language": "python",
   "name": "python3"
  },
  "language_info": {
   "codemirror_mode": {
    "name": "ipython",
    "version": 3
   },
   "file_extension": ".py",
   "mimetype": "text/x-python",
   "name": "python",
   "nbconvert_exporter": "python",
   "pygments_lexer": "ipython3",
   "version": "3.7.6"
  }
 },
 "nbformat": 4,
 "nbformat_minor": 4
}

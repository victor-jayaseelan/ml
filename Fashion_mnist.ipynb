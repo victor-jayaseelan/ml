{
 "cells": [
  {
   "cell_type": "code",
   "execution_count": 22,
   "metadata": {},
   "outputs": [],
   "source": [
    "import tensorflow\n",
    "from tensorflow.keras.datasets import fashion_mnist\n",
    "import numpy as np\n",
    "import matplotlib.pyplot as plt\n",
    "%matplotlib inline\n",
    "import random\n",
    "from tensorflow.keras.models import Sequential\n",
    "from tensorflow.keras.layers import Dense, Dropout, Conv2D, MaxPooling2D, Flatten\n"
   ]
  },
  {
   "cell_type": "code",
   "execution_count": 3,
   "metadata": {},
   "outputs": [],
   "source": [
    "import requests\n",
    "requests.packages.urllib3.disable_warnings()\n",
    "import ssl\n",
    "\n",
    "try:\n",
    "    _create_unverified_https_context = ssl._create_unverified_context\n",
    "except AttributeError:\n",
    "    pass\n",
    "else:\n",
    "    ssl._create_default_https_context = _create_unverified_https_context"
   ]
  },
  {
   "cell_type": "code",
   "execution_count": 4,
   "metadata": {},
   "outputs": [
    {
     "name": "stdout",
     "output_type": "stream",
     "text": [
      "Downloading data from https://storage.googleapis.com/tensorflow/tf-keras-datasets/train-labels-idx1-ubyte.gz\n",
      "32768/29515 [=================================] - 0s 2us/step\n",
      "Downloading data from https://storage.googleapis.com/tensorflow/tf-keras-datasets/train-images-idx3-ubyte.gz\n",
      "26427392/26421880 [==============================] - 5s 0us/step\n",
      "Downloading data from https://storage.googleapis.com/tensorflow/tf-keras-datasets/t10k-labels-idx1-ubyte.gz\n",
      "8192/5148 [===============================================] - 0s 0us/step\n",
      "Downloading data from https://storage.googleapis.com/tensorflow/tf-keras-datasets/t10k-images-idx3-ubyte.gz\n",
      "4423680/4422102 [==============================] - 1s 0us/step\n"
     ]
    }
   ],
   "source": [
    "(x_train, y_train), (x_test, y_test) = fashion_mnist.load_data()"
   ]
  },
  {
   "cell_type": "code",
   "execution_count": 25,
   "metadata": {},
   "outputs": [
    {
     "name": "stdout",
     "output_type": "stream",
     "text": [
      "x_train shape: (60000, 28, 28, 1) y_train shape: (60000,)\n"
     ]
    }
   ],
   "source": [
    "print(\"x_train shape:\", x_train.shape, \"y_train shape:\", y_train.shape)"
   ]
  },
  {
   "cell_type": "code",
   "execution_count": 35,
   "metadata": {},
   "outputs": [
    {
     "data": {
      "text/plain": [
       "<matplotlib.image.AxesImage at 0x685c82650>"
      ]
     },
     "execution_count": 35,
     "metadata": {},
     "output_type": "execute_result"
    },
    {
     "data": {
      "image/png": "[encoded data removed]",
      "text/plain": [
       "<Figure size 432x288 with 1 Axes>"
      ]
     },
     "metadata": {
      "needs_background": "light"
     },
     "output_type": "display_data"
    }
   ],
   "source": [
    "plt.imshow(x_train[9456].reshape([28,28]),cmap=plt.get_cmap('gray_r'))\n",
    "\n"
   ]
  },
  {
   "cell_type": "code",
   "execution_count": 13,
   "metadata": {},
   "outputs": [],
   "source": [
    "from tensorflow.keras import backend as tfk\n",
    "\n",
    "if tfk.image_data_format() == 'channels_first':\n",
    "    x_train = x_train.reshape(x_train.shape[0], 1, 28, 28)\n",
    "    x_test = x_test.reshape(x_test.shape[0], 1, 28, 28)\n",
    "    input_shape = (1, 28, 28)\n",
    "else:\n",
    "    x_train = x_train.reshape(x_train.shape[0], 28, 28, 1)\n",
    "    x_test = x_test.reshape(x_test.shape[0], 28, 28, 1)\n",
    "    input_shape = (28, 28, 1)\n",
    "    \n",
    "    \n",
    "x_train = x_train.astype('float32') / 255\n",
    "x_test = x_test.astype('float32') / 255  # Normalize the data dimension\n"
   ]
  },
  {
   "cell_type": "code",
   "execution_count": null,
   "metadata": {},
   "outputs": [],
   "source": [
    "y_train = tensorflow.keras.utils.to_categorical(y_train, 10)  # One hot encoding\n",
    "y_test = tensorflow.keras.utils.to_categorical(y_test, 10)"
   ]
  },
  {
   "cell_type": "code",
   "execution_count": 54,
   "metadata": {},
   "outputs": [],
   "source": [
    "model = Sequential()\n",
    "# 1st layer 32 kernels 3x3 size\n",
    "model.add(Conv2D(filters=32, kernel_size=(3, 3),\n",
    "                 padding='same', #zero padding\n",
    "                 activation='relu',\n",
    "                 input_shape=input_shape))\n",
    "# 2nd Conv layer 64 kernels 3x3 size\n",
    "model.add(Conv2D(filters=64, \n",
    "                 kernel_size=(3, 3), \n",
    "                 padding='same',\n",
    "                 activation='relu'))\n",
    "# Maxpooling layer 2x2\n",
    "model.add(MaxPooling2D(pool_size=(2, 2)))\n",
    "\n",
    "# Adding Dropout to layers to avoid overfitting\n",
    "model.add(Dropout(0.3))\n",
    "\n",
    "# Flattening layer\n",
    "model.add(Flatten())\n",
    "\n",
    "# A hidden layer to learn with\n",
    "model.add(Dense(128, activation='relu'))\n",
    "\n",
    "\n",
    "model.add(Dropout(0.5))\n",
    "\n",
    "# Softmax categorization layer\n",
    "model.add(Dense(10, activation='softmax'))\n",
    "\n"
   ]
  },
  {
   "cell_type": "code",
   "execution_count": 55,
   "metadata": {},
   "outputs": [
    {
     "name": "stdout",
     "output_type": "stream",
     "text": [
      "Model: \"sequential_2\"\n",
      "_________________________________________________________________\n",
      "Layer (type)                 Output Shape              Param #   \n",
      "=================================================================\n",
      "conv2d_4 (Conv2D)            (None, 28, 28, 32)        320       \n",
      "_________________________________________________________________\n",
      "conv2d_5 (Conv2D)            (None, 28, 28, 64)        18496     \n",
      "_________________________________________________________________\n",
      "max_pooling2d_2 (MaxPooling2 (None, 14, 14, 64)        0         \n",
      "_________________________________________________________________\n",
      "dropout_4 (Dropout)          (None, 14, 14, 64)        0         \n",
      "_________________________________________________________________\n",
      "flatten_2 (Flatten)          (None, 12544)             0         \n",
      "_________________________________________________________________\n",
      "dense_4 (Dense)              (None, 128)               1605760   \n",
      "_________________________________________________________________\n",
      "dropout_5 (Dropout)          (None, 128)               0         \n",
      "_________________________________________________________________\n",
      "dense_5 (Dense)              (None, 10)                1290      \n",
      "=================================================================\n",
      "Total params: 1,625,866\n",
      "Trainable params: 1,625,866\n",
      "Non-trainable params: 0\n",
      "_________________________________________________________________\n"
     ]
    }
   ],
   "source": [
    "model.summary()"
   ]
  },
  {
   "cell_type": "code",
   "execution_count": 56,
   "metadata": {},
   "outputs": [],
   "source": [
    "model.compile(loss='sparse_categorical_crossentropy',\n",
    "              optimizer='adam',\n",
    "              metrics=['accuracy'])"
   ]
  },
  {
   "cell_type": "code",
   "execution_count": 57,
   "metadata": {},
   "outputs": [
    {
     "name": "stdout",
     "output_type": "stream",
     "text": [
      "Epoch 1/10\n",
      "1875/1875 - 81s - loss: 0.4471 - accuracy: 0.8415 - val_loss: 0.2889 - val_accuracy: 0.8953\n",
      "Epoch 2/10\n",
      "1875/1875 - 81s - loss: 0.3004 - accuracy: 0.8926 - val_loss: 0.2540 - val_accuracy: 0.9041\n",
      "Epoch 3/10\n",
      "1875/1875 - 81s - loss: 0.2573 - accuracy: 0.9050 - val_loss: 0.2351 - val_accuracy: 0.9146\n",
      "Epoch 4/10\n",
      "1875/1875 - 81s - loss: 0.2266 - accuracy: 0.9163 - val_loss: 0.2378 - val_accuracy: 0.9134\n",
      "Epoch 5/10\n",
      "1875/1875 - 78s - loss: 0.2063 - accuracy: 0.9243 - val_loss: 0.2147 - val_accuracy: 0.9237\n",
      "Epoch 6/10\n",
      "1875/1875 - 80s - loss: 0.1861 - accuracy: 0.9308 - val_loss: 0.2146 - val_accuracy: 0.9257\n",
      "Epoch 7/10\n",
      "1875/1875 - 80s - loss: 0.1708 - accuracy: 0.9353 - val_loss: 0.2251 - val_accuracy: 0.9223\n",
      "Epoch 8/10\n",
      "1875/1875 - 81s - loss: 0.1620 - accuracy: 0.9399 - val_loss: 0.2277 - val_accuracy: 0.9253\n",
      "Epoch 9/10\n",
      "1875/1875 - 84s - loss: 0.1502 - accuracy: 0.9432 - val_loss: 0.2154 - val_accuracy: 0.9307\n",
      "Epoch 10/10\n",
      "1875/1875 - 84s - loss: 0.1411 - accuracy: 0.9478 - val_loss: 0.2181 - val_accuracy: 0.9297\n"
     ]
    },
    {
     "data": {
      "text/plain": [
       "<tensorflow.python.keras.callbacks.History at 0x685c6ee50>"
      ]
     },
     "execution_count": 57,
     "metadata": {},
     "output_type": "execute_result"
    }
   ],
   "source": [
    "model.fit(x_train, y_train,\n",
    "                    batch_size=32,\n",
    "                    epochs=10,\n",
    "                    verbose=2,\n",
    "                    validation_data=(x_test, y_test))"
   ]
  },
  {
   "cell_type": "code",
   "execution_count": 58,
   "metadata": {},
   "outputs": [],
   "source": [
    "val=model.predict(x_test[400].reshape([1,28,28,1]))"
   ]
  },
  {
   "cell_type": "code",
   "execution_count": 59,
   "metadata": {},
   "outputs": [
    {
     "data": {
      "text/plain": [
       "array([[9.9974746e-01, 7.8205409e-16, 7.3701552e-09, 1.1340576e-08,\n",
       "        3.2653315e-13, 3.0804243e-16, 2.5253755e-04, 1.3039281e-20,\n",
       "        1.1655252e-13, 8.4891923e-21]], dtype=float32)"
      ]
     },
     "execution_count": 59,
     "metadata": {},
     "output_type": "execute_result"
    }
   ],
   "source": [
    "val"
   ]
  },
  {
   "cell_type": "code",
   "execution_count": 60,
   "metadata": {},
   "outputs": [
    {
     "data": {
      "text/plain": [
       "array([0])"
      ]
     },
     "execution_count": 60,
     "metadata": {},
     "output_type": "execute_result"
    }
   ],
   "source": [
    "val.argmax(axis=1)"
   ]
  },
  {
   "cell_type": "code",
   "execution_count": 61,
   "metadata": {},
   "outputs": [
    {
     "name": "stdout",
     "output_type": "stream",
     "text": [
      "[[2.06190223e-15 5.47071317e-16 3.85378772e-22 1.62963163e-22\n",
      "  1.31703029e-22 1.00000000e+00 1.35709371e-19 2.97535400e-14\n",
      "  6.46149692e-13 1.26084242e-13]\n",
      " [1.10392494e-03 4.45811270e-15 1.42671539e-07 2.28082001e-07\n",
      "  7.04913061e-09 2.23730084e-12 9.98895645e-01 2.08893571e-13\n",
      "  5.57078543e-08 2.75552201e-14]\n",
      " [3.82569512e-14 6.29684822e-16 1.15384607e-15 1.72662703e-14\n",
      "  8.16406618e-16 1.34506872e-09 1.03504004e-13 1.00000000e+00\n",
      "  3.68917310e-12 6.64083788e-11]\n",
      " [1.43298473e-09 5.00766387e-15 1.95286089e-13 4.65187621e-13\n",
      "  5.68847649e-13 5.24889323e-13 5.06270892e-09 6.50807750e-13\n",
      "  1.00000000e+00 6.68667986e-12]\n",
      " [2.38358053e-13 6.93131031e-18 1.73759543e-14 3.64355966e-15\n",
      "  1.21087859e-13 1.54018725e-11 1.49802523e-12 5.56822817e-12\n",
      "  8.13592290e-14 1.00000000e+00]]\n",
      "Predicted labels are: [5 6 7 8 9]\n"
     ]
    },
    {
     "data": {
      "image/png": "[encoded data removed]",
      "text/plain": [
       "<Figure size 432x288 with 5 Axes>"
      ]
     },
     "metadata": {
      "needs_background": "light"
     },
     "output_type": "display_data"
    }
   ],
   "source": [
    "\n",
    "sample_size = 5\n",
    "indices = random.sample(range(x_test.shape[0] - 1), sample_size)\n",
    "samp_images = x_test[indices]\n",
    "samp_labels = y_test[indices]\n",
    "\n",
    "for i in range(sample_size):\n",
    "    plt.subplot(1,sample_size,i+1)\n",
    "    plt.imshow(samp_images[i].reshape(28, 28), cmap='gray')\n",
    "    plt.title(samp_labels[i])\n",
    "    plt.axis('off')\n",
    "\n",
    "prediction = model.predict(samp_images.reshape(sample_size, 28, 28, 1))\n",
    "print(prediction)\n",
    "prediction = np.array(prediction)\n",
    "predicted_label = prediction.argmax(axis=1)\n",
    "print('Predicted labels are: {}'.format(predicted_label))\n"
   ]
  },
  {
   "cell_type": "code",
   "execution_count": null,
   "metadata": {},
   "outputs": [],
   "source": []
  }
 ],
 "metadata": {
  "kernelspec": {
   "display_name": "Python 3",
   "language": "python",
   "name": "python3"
  },
  "language_info": {
   "codemirror_mode": {
    "name": "ipython",
    "version": 3
   },
   "file_extension": ".py",
   "mimetype": "text/x-python",
   "name": "python",
   "nbconvert_exporter": "python",
   "pygments_lexer": "ipython3",
   "version": "3.7.6"
  }
 },
 "nbformat": 4,
 "nbformat_minor": 4
}
